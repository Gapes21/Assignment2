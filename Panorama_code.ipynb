{
 "cells": [
  {
   "cell_type": "code",
   "execution_count": 1,
   "metadata": {},
   "outputs": [
    {
     "data": {
      "text/plain": [
       "True"
      ]
     },
     "execution_count": 1,
     "metadata": {},
     "output_type": "execute_result"
    }
   ],
   "source": [
    "import cv2\n",
    "import numpy as np\n",
    "\n",
    "def stitch(image1, image2):\n",
    "    # Feature detection and description\n",
    "    sift = cv2.SIFT_create()\n",
    "    keypoints1, descriptors1 = sift.detectAndCompute(image1, None)\n",
    "    keypoints2, descriptors2 = sift.detectAndCompute(image2, None)\n",
    "\n",
    "    # Draw keypoints on images (for visualization)\n",
    "    image1_with_keypoints = cv2.drawKeypoints(image1, keypoints1, None)\n",
    "    image2_with_keypoints = cv2.drawKeypoints(image2, keypoints2, None)\n",
    "    cv2.imwrite('image1_with_keypoints.jpg', image1_with_keypoints)\n",
    "    cv2.imwrite('image2_with_keypoints.jpg', image2_with_keypoints)\n",
    "    \n",
    "    # BFMatcher with default params\n",
    "    bf = cv2.BFMatcher()\n",
    "    matches = bf.knnMatch(descriptors1, descriptors2, k=2)\n",
    "    \n",
    "    # Apply ratio test\n",
    "    good_matches = []\n",
    "    for m, n in matches:\n",
    "        if m.distance < 0.75 * n.distance:\n",
    "            good_matches.append(m)\n",
    "    \n",
    "    # RANSAC-based homography estimation\n",
    "    src_pts = np.float32([keypoints2[m.trainIdx].pt for m in good_matches]).reshape(-1, 1, 2)\n",
    "    dst_pts = np.float32([keypoints1[m.queryIdx].pt for m in good_matches]).reshape(-1, 1, 2)\n",
    "    H, _ = cv2.findHomography(src_pts, dst_pts, cv2.RANSAC, 5.0)\n",
    "    \n",
    "    # Warp image1 onto image2\n",
    "    height, width = image2.shape[:2]\n",
    "    width += image1.shape[1]\n",
    "    warped_image = cv2.warpPerspective(image2, H, (width, height))\n",
    "    \n",
    "    warped_image[:,:image1.shape[1]]=image1\n",
    "    \n",
    "    return warped_image\n",
    "\n",
    "# Load images\n",
    "image_paths = ['VS_Batch2_1.jpg', 'VS_Batch2_2.jpg', 'VS_Batch2_3.jpg']\n",
    "images = [cv2.imread(path) for path in image_paths]\n",
    "\n",
    "# Start stitching from the last photo\n",
    "n = len(images)\n",
    "final_panorama = images[n-1]\n",
    "\n",
    "for i in range( n-2 , -1 , -1):\n",
    "    final_panorama = stitch(images[i],final_panorama)\n",
    "\n",
    "# Display the final stitched panorama\n",
    "cv2.imwrite('Final_Panorama.jpg', final_panorama)\n"
   ]
  }
 ],
 "metadata": {
  "kernelspec": {
   "display_name": "Python 3",
   "language": "python",
   "name": "python3"
  },
  "language_info": {
   "codemirror_mode": {
    "name": "ipython",
    "version": 3
   },
   "file_extension": ".py",
   "mimetype": "text/x-python",
   "name": "python",
   "nbconvert_exporter": "python",
   "pygments_lexer": "ipython3",
   "version": "3.11.8"
  }
 },
 "nbformat": 4,
 "nbformat_minor": 2
}
