{
 "cells": [
  {
   "cell_type": "code",
   "execution_count": 49,
   "metadata": {},
   "outputs": [],
   "source": [
    "import cv2\n",
    "import numpy as np\n"
   ]
  },
  {
   "cell_type": "code",
   "execution_count": 50,
   "metadata": {},
   "outputs": [],
   "source": [
    "np.random.seed(10)"
   ]
  },
  {
   "cell_type": "code",
   "execution_count": 54,
   "metadata": {},
   "outputs": [],
   "source": [
    "# Load images\n",
    "img1 = cv2.imread('VS_Batch1_1.jpg')\n",
    "img2 = cv2.imread('VS_Batch1_2.jpg')\n",
    "img3 = cv2.imread('VS_Batch1_3.jpg')\n",
    "img4 = cv2.imread('VS_Batch1_4.jpg')\n",
    "\n",
    "# Convert images to grayscale\n",
    "rgb1 = cv2.cvtColor(img1, cv2.COLOR_BGR2GRAY)\n",
    "rgb2 = cv2.cvtColor(img2, cv2.COLOR_BGR2GRAY)\n",
    "rgb3 = cv2.cvtColor(img3, cv2.COLOR_BGR2GRAY)\n",
    "rgb4 = cv2.cvtColor(img4, cv2.COLOR_BGR2GRAY)\n",
    "\n",
    "images=[]\n",
    "images.append(img1)\n",
    "images.append(img2)\n",
    "images.append(img3)\n",
    "images.append(img4)\n",
    "\n",
    "stitcher = cv2.Stitcher_create()\n",
    "stitcher.setPanoConfidenceThresh(0.6)  # Example: Set panorama confidence threshold\n",
    "\n",
    "# Stitch images\n",
    "status, panorama = stitcher.stitch((img1, img2, img3, img4))\n",
    "\n",
    "if status == cv2.Stitcher_OK:\n",
    "    # Resize panorama to fit the screen\n",
    "    max_display_size = 1500\n",
    "    scale = min(max_display_size / panorama.shape[1], max_display_size / panorama.shape[0])\n",
    "    panorama_resized = cv2.resize(panorama, None, fx=scale, fy=scale)\n",
    "\n",
    "    # Display the resulting panorama\n",
    "    cv2.imshow('Panorama', panorama_resized)\n",
    "    cv2.waitKey(0)\n",
    "    cv2.destroyAllWindows()\n",
    "else:\n",
    "    print(\"Error during stitching\")"
   ]
  }
 ],
 "metadata": {
  "kernelspec": {
   "display_name": "Python 3",
   "language": "python",
   "name": "python3"
  },
  "language_info": {
   "codemirror_mode": {
    "name": "ipython",
    "version": 3
   },
   "file_extension": ".py",
   "mimetype": "text/x-python",
   "name": "python",
   "nbconvert_exporter": "python",
   "pygments_lexer": "ipython3",
   "version": "3.11.8"
  }
 },
 "nbformat": 4,
 "nbformat_minor": 2
}
